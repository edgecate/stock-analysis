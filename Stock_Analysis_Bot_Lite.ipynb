{
  "cells": [
    {
      "cell_type": "code",
      "execution_count": null,
      "metadata": {
        "id": "0gY2ueyyl_55"
      },
      "outputs": [],
      "source": [
        "!pip install yfinance\n",
        "!pip install pandas"
      ]
    },
    {
      "cell_type": "markdown",
      "metadata": {
        "id": "aqYOxw3-l_55"
      },
      "source": [
        "#### Part 1 - Download price of Stock Codes from ASX, put it into a Dataframe, export to CSV"
      ]
    },
    {
      "cell_type": "code",
      "execution_count": 3,
      "metadata": {
        "id": "ZEB_2p1Il_56"
      },
      "outputs": [],
      "source": [
        "# Import Modules\n",
        "import yfinance as yf\n",
        "import pandas as pd"
      ]
    },
    {
      "cell_type": "code",
      "execution_count": 30,
      "metadata": {
        "id": "NlK0OnCol_57"
      },
      "outputs": [],
      "source": [
        "# Add Tickers here (All 2123 stock codes at the bottom of the Notebook)\n",
        "asx_list = ['TLS.AX','FMG.AX','ZIP.AX']"
      ]
    },
    {
      "cell_type": "code",
      "source": [
        "# Create an empty Dataframe\n",
        "info = yf.Ticker(asx_list[0]).info\n",
        "df = pd.DataFrame.from_dict(info)"
      ],
      "metadata": {
        "id": "XyGe45TZncHq"
      },
      "execution_count": 31,
      "outputs": []
    },
    {
      "cell_type": "code",
      "source": [
        "# This will download each stock in asx_list\n",
        "for each_stock in asx_list:\n",
        "  stock = yf.Ticker(each_stock)\n",
        "  info = stock.info\n",
        "  df = df.append(pd.DataFrame.from_dict(info, orient='index').transpose())"
      ],
      "metadata": {
        "id": "DpLh2XYwpneJ"
      },
      "execution_count": 32,
      "outputs": []
    },
    {
      "cell_type": "code",
      "source": [
        "df"
      ],
      "metadata": {
        "colab": {
          "base_uri": "https://localhost:8080/",
          "height": 341
        },
        "id": "VYkHUSuAowIf",
        "outputId": "4359c9c7-21c9-4501-b1de-9fde8c3bbd5c"
      },
      "execution_count": 33,
      "outputs": [
        {
          "output_type": "execute_result",
          "data": {
            "text/plain": [
              "    zip                  sector fullTimeEmployees  \\\n",
              "0  3000  Communication Services             26728   \n",
              "0  6004         Basic Materials             10232   \n",
              "0  2000      Financial Services              1048   \n",
              "\n",
              "                                 longBusinessSummary        city  \\\n",
              "0  Telstra Corporation Limited provides telecommu...   Melbourne   \n",
              "0  Fortescue Metals Group Limited engages in the ...  East Perth   \n",
              "0  Zip Co Limited provides point-of-sale credit, ...      Sydney   \n",
              "\n",
              "            phone state    country companyOfficers  \\\n",
              "0  61 3 8647 4838   VIC  Australia              []   \n",
              "0  61 8 6218 8888    WA  Australia              []   \n",
              "0  61 2 8294 2345   NSW  Australia              []   \n",
              "\n",
              "                      website  ... fiveYearAvgDividendYield fiftyTwoWeekLow  \\\n",
              "0  https://www.telstra.com.au  ...                     4.46           3.505   \n",
              "0     https://www.fmgl.com.au  ...                     8.79            13.9   \n",
              "0              https://zip.co  ...                     None           0.615   \n",
              "\n",
              "     bid tradeable dividendYield bidSize dayHigh regularMarketPrice  \\\n",
              "0   3.88     False        0.0305       0    3.91              3.885   \n",
              "0  21.53     False        0.0887       0   21.59              21.53   \n",
              "0   0.62     False          None    None    0.67               0.62   \n",
              "\n",
              "  preMarketPrice                                  logo_url  \n",
              "0           None  https://logo.clearbit.com/telstra.com.au  \n",
              "0           None     https://logo.clearbit.com/fmgl.com.au  \n",
              "0           None          https://logo.clearbit.com/zip.co  \n",
              "\n",
              "[3 rows x 155 columns]"
            ],
            "text/html": [
              "\n",
              "  <div id=\"df-50217642-3ac7-4871-8af4-92b1b00228f1\">\n",
              "    <div class=\"colab-df-container\">\n",
              "      <div>\n",
              "<style scoped>\n",
              "    .dataframe tbody tr th:only-of-type {\n",
              "        vertical-align: middle;\n",
              "    }\n",
              "\n",
              "    .dataframe tbody tr th {\n",
              "        vertical-align: top;\n",
              "    }\n",
              "\n",
              "    .dataframe thead th {\n",
              "        text-align: right;\n",
              "    }\n",
              "</style>\n",
              "<table border=\"1\" class=\"dataframe\">\n",
              "  <thead>\n",
              "    <tr style=\"text-align: right;\">\n",
              "      <th></th>\n",
              "      <th>zip</th>\n",
              "      <th>sector</th>\n",
              "      <th>fullTimeEmployees</th>\n",
              "      <th>longBusinessSummary</th>\n",
              "      <th>city</th>\n",
              "      <th>phone</th>\n",
              "      <th>state</th>\n",
              "      <th>country</th>\n",
              "      <th>companyOfficers</th>\n",
              "      <th>website</th>\n",
              "      <th>...</th>\n",
              "      <th>fiveYearAvgDividendYield</th>\n",
              "      <th>fiftyTwoWeekLow</th>\n",
              "      <th>bid</th>\n",
              "      <th>tradeable</th>\n",
              "      <th>dividendYield</th>\n",
              "      <th>bidSize</th>\n",
              "      <th>dayHigh</th>\n",
              "      <th>regularMarketPrice</th>\n",
              "      <th>preMarketPrice</th>\n",
              "      <th>logo_url</th>\n",
              "    </tr>\n",
              "  </thead>\n",
              "  <tbody>\n",
              "    <tr>\n",
              "      <th>0</th>\n",
              "      <td>3000</td>\n",
              "      <td>Communication Services</td>\n",
              "      <td>26728</td>\n",
              "      <td>Telstra Corporation Limited provides telecommu...</td>\n",
              "      <td>Melbourne</td>\n",
              "      <td>61 3 8647 4838</td>\n",
              "      <td>VIC</td>\n",
              "      <td>Australia</td>\n",
              "      <td>[]</td>\n",
              "      <td>https://www.telstra.com.au</td>\n",
              "      <td>...</td>\n",
              "      <td>4.46</td>\n",
              "      <td>3.505</td>\n",
              "      <td>3.88</td>\n",
              "      <td>False</td>\n",
              "      <td>0.0305</td>\n",
              "      <td>0</td>\n",
              "      <td>3.91</td>\n",
              "      <td>3.885</td>\n",
              "      <td>None</td>\n",
              "      <td>https://logo.clearbit.com/telstra.com.au</td>\n",
              "    </tr>\n",
              "    <tr>\n",
              "      <th>0</th>\n",
              "      <td>6004</td>\n",
              "      <td>Basic Materials</td>\n",
              "      <td>10232</td>\n",
              "      <td>Fortescue Metals Group Limited engages in the ...</td>\n",
              "      <td>East Perth</td>\n",
              "      <td>61 8 6218 8888</td>\n",
              "      <td>WA</td>\n",
              "      <td>Australia</td>\n",
              "      <td>[]</td>\n",
              "      <td>https://www.fmgl.com.au</td>\n",
              "      <td>...</td>\n",
              "      <td>8.79</td>\n",
              "      <td>13.9</td>\n",
              "      <td>21.53</td>\n",
              "      <td>False</td>\n",
              "      <td>0.0887</td>\n",
              "      <td>0</td>\n",
              "      <td>21.59</td>\n",
              "      <td>21.53</td>\n",
              "      <td>None</td>\n",
              "      <td>https://logo.clearbit.com/fmgl.com.au</td>\n",
              "    </tr>\n",
              "    <tr>\n",
              "      <th>0</th>\n",
              "      <td>2000</td>\n",
              "      <td>Financial Services</td>\n",
              "      <td>1048</td>\n",
              "      <td>Zip Co Limited provides point-of-sale credit, ...</td>\n",
              "      <td>Sydney</td>\n",
              "      <td>61 2 8294 2345</td>\n",
              "      <td>NSW</td>\n",
              "      <td>Australia</td>\n",
              "      <td>[]</td>\n",
              "      <td>https://zip.co</td>\n",
              "      <td>...</td>\n",
              "      <td>None</td>\n",
              "      <td>0.615</td>\n",
              "      <td>0.62</td>\n",
              "      <td>False</td>\n",
              "      <td>None</td>\n",
              "      <td>None</td>\n",
              "      <td>0.67</td>\n",
              "      <td>0.62</td>\n",
              "      <td>None</td>\n",
              "      <td>https://logo.clearbit.com/zip.co</td>\n",
              "    </tr>\n",
              "  </tbody>\n",
              "</table>\n",
              "<p>3 rows × 155 columns</p>\n",
              "</div>\n",
              "      <button class=\"colab-df-convert\" onclick=\"convertToInteractive('df-50217642-3ac7-4871-8af4-92b1b00228f1')\"\n",
              "              title=\"Convert this dataframe to an interactive table.\"\n",
              "              style=\"display:none;\">\n",
              "        \n",
              "  <svg xmlns=\"http://www.w3.org/2000/svg\" height=\"24px\"viewBox=\"0 0 24 24\"\n",
              "       width=\"24px\">\n",
              "    <path d=\"M0 0h24v24H0V0z\" fill=\"none\"/>\n",
              "    <path d=\"M18.56 5.44l.94 2.06.94-2.06 2.06-.94-2.06-.94-.94-2.06-.94 2.06-2.06.94zm-11 1L8.5 8.5l.94-2.06 2.06-.94-2.06-.94L8.5 2.5l-.94 2.06-2.06.94zm10 10l.94 2.06.94-2.06 2.06-.94-2.06-.94-.94-2.06-.94 2.06-2.06.94z\"/><path d=\"M17.41 7.96l-1.37-1.37c-.4-.4-.92-.59-1.43-.59-.52 0-1.04.2-1.43.59L10.3 9.45l-7.72 7.72c-.78.78-.78 2.05 0 2.83L4 21.41c.39.39.9.59 1.41.59.51 0 1.02-.2 1.41-.59l7.78-7.78 2.81-2.81c.8-.78.8-2.07 0-2.86zM5.41 20L4 18.59l7.72-7.72 1.47 1.35L5.41 20z\"/>\n",
              "  </svg>\n",
              "      </button>\n",
              "      \n",
              "  <style>\n",
              "    .colab-df-container {\n",
              "      display:flex;\n",
              "      flex-wrap:wrap;\n",
              "      gap: 12px;\n",
              "    }\n",
              "\n",
              "    .colab-df-convert {\n",
              "      background-color: #E8F0FE;\n",
              "      border: none;\n",
              "      border-radius: 50%;\n",
              "      cursor: pointer;\n",
              "      display: none;\n",
              "      fill: #1967D2;\n",
              "      height: 32px;\n",
              "      padding: 0 0 0 0;\n",
              "      width: 32px;\n",
              "    }\n",
              "\n",
              "    .colab-df-convert:hover {\n",
              "      background-color: #E2EBFA;\n",
              "      box-shadow: 0px 1px 2px rgba(60, 64, 67, 0.3), 0px 1px 3px 1px rgba(60, 64, 67, 0.15);\n",
              "      fill: #174EA6;\n",
              "    }\n",
              "\n",
              "    [theme=dark] .colab-df-convert {\n",
              "      background-color: #3B4455;\n",
              "      fill: #D2E3FC;\n",
              "    }\n",
              "\n",
              "    [theme=dark] .colab-df-convert:hover {\n",
              "      background-color: #434B5C;\n",
              "      box-shadow: 0px 1px 3px 1px rgba(0, 0, 0, 0.15);\n",
              "      filter: drop-shadow(0px 1px 2px rgba(0, 0, 0, 0.3));\n",
              "      fill: #FFFFFF;\n",
              "    }\n",
              "  </style>\n",
              "\n",
              "      <script>\n",
              "        const buttonEl =\n",
              "          document.querySelector('#df-50217642-3ac7-4871-8af4-92b1b00228f1 button.colab-df-convert');\n",
              "        buttonEl.style.display =\n",
              "          google.colab.kernel.accessAllowed ? 'block' : 'none';\n",
              "\n",
              "        async function convertToInteractive(key) {\n",
              "          const element = document.querySelector('#df-50217642-3ac7-4871-8af4-92b1b00228f1');\n",
              "          const dataTable =\n",
              "            await google.colab.kernel.invokeFunction('convertToInteractive',\n",
              "                                                     [key], {});\n",
              "          if (!dataTable) return;\n",
              "\n",
              "          const docLinkHtml = 'Like what you see? Visit the ' +\n",
              "            '<a target=\"_blank\" href=https://colab.research.google.com/notebooks/data_table.ipynb>data table notebook</a>'\n",
              "            + ' to learn more about interactive tables.';\n",
              "          element.innerHTML = '';\n",
              "          dataTable['output_type'] = 'display_data';\n",
              "          await google.colab.output.renderOutput(dataTable, element);\n",
              "          const docLink = document.createElement('div');\n",
              "          docLink.innerHTML = docLinkHtml;\n",
              "          element.appendChild(docLink);\n",
              "        }\n",
              "      </script>\n",
              "    </div>\n",
              "  </div>\n",
              "  "
            ]
          },
          "metadata": {},
          "execution_count": 33
        }
      ]
    },
    {
      "cell_type": "code",
      "execution_count": 34,
      "metadata": {
        "id": "fQVx3whEl_6B"
      },
      "outputs": [],
      "source": [
        "# Export to CSV\n",
        "df.to_csv('asx.csv', index=False)"
      ]
    },
    {
      "cell_type": "code",
      "source": [
        "# All ASX Codes as of 8/06/2022\n",
        "#asx_list['14D.AX','1AD.AX','1AE.AX','1AG.AX','1MC.AX','1ST.AX','1VG.AX','29M.AX','2BE.AX','360.AX','3DA.AX','3DP.AX','3MF.AX','3PL.AX','4DS.AX','4DX.AX','5EA.AX','5GG.AX','88E.AX','8CO.AX','8IH.AX','8VI.AX','92E.AX','99L.AX','9SP.AX','A1G.AX','A1M.AX','A2B.AX','A2M.AX','A3D.AX','A4N.AX','A8G.AX','AAC.AX','AAJ.AX','AAP.AX','AAR.AX','AAU.AX','AB1.AX','ABA.AX','ABB.AX','ABC.AX','ABE.AX','ABP.AX','ABV.AX','ABX.AX','ABY.AX','AC8.AX','ACB.AX','ACF.AX','ACL.AX','ACP.AX','ACQ.AX','ACR.AX','ACS.AX','ACU.AX','ACW.AX','AD1.AX','AD8.AX','ADA.AX','ADD.AX','ADH.AX','ADN.AX','ADO.AX','ADR.AX','ADS.AX','ADT.AX','ADV.AX','ADX.AX','ADY.AX','AE1.AX','AEE.AX','AEF.AX','AEG.AX','AEI.AX','AEN.AX','AER.AX','AEV.AX','AFA.AX','AFG.AX','AFI.AX','AFL.AX','AFP.AX','AFW.AX','AGC.AX','AGD.AX','AGE.AX','AGG.AX','AGH.AX','AGI.AX','AGJ.AX','AGL.AX','AGN.AX','AGR.AX','AGS.AX','AGY.AX','AHC.AX','AHF.AX','AHI.AX','AHK.AX','AHN.AX','AHQ.AX','AHX.AX','AIA.AX','AIB.AX','AII.AX','AIM.AX','AIQ.AX','AIR.AX','AIS.AX','AIV.AX','AIZ.AX','AJJ.AX','AJL.AX','AJQ.AX','AJX.AX','AJY.AX','AKE.AX','AKG.AX','AKL.AX','AKM.AX','AKN.AX','AKO.AX','AKP.AX','AL3.AX','AL8.AX','ALA.AX','ALB.AX','ALC.AX','ALD.AX','ALG.AX','ALI.AX','ALK.AX','ALL.AX','ALM.AX','ALO.AX','ALQ.AX','ALT.AX','ALU.AX','ALV.AX','ALX.AX','ALY.AX','AM7.AX','AMA.AX','AMC.AX','AMD.AX','AME.AX','AMH.AX','AMI.AX','AML.AX','AMM.AX','AMN.AX','AMO.AX','AMP.AX','AMS.AX','AMT.AX','AMX.AX','AN1.AX','AND.AX','ANG.AX','ANL.AX','ANN.AX','ANO.AX','ANP.AX','ANR.AX','ANW.AX','ANX.AX','ANZ.AX','AO1.AX','AOA.AX','AOF.AX','AON.AX','AOU.AX','APA.AX','APC.AX','APE.AX','APG.AX','APM.AX','APS.AX','APW.AX','APX.AX','APZ.AX','AQC.AX','AQD.AX','AQI.AX','AQN.AX','AQS.AX','AQX.AX','AQZ.AX','AR1.AX','AR3.AX','AR9.AX','ARA.AX','ARB.AX','ARC.AX','ARD.AX','ARE.AX','ARF.AX','ARG.AX','ARL.AX','ARN.AX','ARO.AX','ARR.AX','ART.AX','ARU.AX','ARV.AX','ARX.AX','AS1.AX','AS2.AX','ASB.AX','ASG.AX','ASH.AX','ASM.AX','ASN.AX','ASO.AX','ASP.AX','ASQ.AX','ASR.AX','ASW.AX','ASX.AX','AT1.AX','ATA.AX','ATC.AX','ATH.AX','ATL.AX','ATM.AX','ATP.AX','ATR.AX','ATS.AX','ATU.AX','ATV.AX','ATX.AX','AU1.AX','AUA.AX','AUB.AX','AUC.AX','AUE.AX','AUH.AX','AUI.AX','AUK.AX','AUN.AX','AUQ.AX','AUR.AX','AUT.AX','AUZ.AX','AV1.AX','AVA.AX','AVC.AX','AVD.AX','AVE.AX','AVG.AX','AVH.AX','AVJ.AX','AVL.AX','AVR.AX','AVW.AX','AVZ.AX','AW1.AX','AWC.AX','AWJ.AX','AWV.AX','AX1.AX','AX8.AX','AXE.AX','AXI.AX','AXP.AX','AYA.AX','AYI.AX','AYM.AX','AYT.AX','AZI.AX','AZJ.AX','AZL.AX','AZS.AX','AZY.AX','B4P.AX','BAP.AX','BAS.AX','BAT.AX','BBC.AX','BBL.AX','BBN.AX','BBT.AX','BBX.AX','BC8.AX','BCA.AX','BCB.AX','BCC.AX','BCI.AX','BCK.AX','BCN.AX','BCT.AX','BDG.AX','BDM.AX','BDT.AX','BDX.AX','BEE.AX','BEL.AX','BEM.AX','BEN.AX','BET.AX','BEX.AX','BEZ.AX','BFC.AX','BFG.AX','BFL.AX','BGA.AX','BGD.AX','BGL.AX','BGP.AX','BGT.AX','BHD.AX','BHP.AX','BID.AX','BIM.AX','BIO.AX','BIQ.AX','BIR.AX','BIS.AX','BIT.AX','BKG.AX','BKI.AX','BKL.AX','BKT.AX','BKW.AX','BKY.AX','BLD.AX','BLG.AX','BLU.AX','BLX.AX','BLY.AX','BLZ.AX','BME.AX','BMG.AX','BMH.AX','BML.AX','BMM.AX','BMN.AX','BMO.AX','BMR.AX','BMT.AX','BNL.AX','BNO.AX','BNR.AX','BNZ.AX','BOA.AX','BOC.AX','BOD.AX','BOE.AX','BOL.AX','BOQ.AX','BOT.AX','BPH.AX','BPM.AX','BPP.AX','BPT.AX','BRB.AX','BRG.AX','BRI.AX','BRK.AX','BRL.AX','BRN.AX','BRU.AX','BRV.AX','BRX.AX','BSA.AX','BSE.AX','BSL.AX','BST.AX','BSX.AX','BTC.AX','BTE.AX','BTH.AX','BTI.AX','BTN.AX','BTR.AX','BUB.AX','BUD.AX','BUR.AX','BUX.AX','BUY.AX','BVR.AX','BVS.AX','BWF.AX','BWP.AX','BWX.AX','BXB.AX','BXN.AX','BYE.AX','BYH.AX','BYI.AX','C1X.AX','C29.AX','C6C.AX','C79.AX','CAA.AX','CAD.AX','CAE.AX','CAF.AX','CAG.AX','CAI.AX','CAJ.AX','CAM.AX','CAN.AX','CAQ.AX','CAR.AX','CAT.AX','CAU.AX','CAV.AX','CAY.AX','CAZ.AX','CBA.AX','CBE.AX','CBH.AX','CBL.AX','CBO.AX','CBR.AX','CBY.AX','CCA.AX','CCE.AX','CCG.AX','CCJ.AX','CCP.AX','CCR.AX','CCV.AX','CCX.AX','CCZ.AX','CD1.AX','CD2.AX','CD3.AX','CDA.AX','CDD.AX','CDM.AX','CDO.AX','CDP.AX','CDR.AX','CDT.AX','CDX.AX','CE1.AX','CEL.AX','CEN.AX','CF1.AX','CFO.AX','CG1.AX','CGA.AX','CGB.AX','CGC.AX','CGF.AX','CGN.AX','CGO.AX','CGS.AX','CHC.AX','CHK.AX','CHL.AX','CHM.AX','CHN.AX','CHR.AX','CHZ.AX','CI1.AX','CIA.AX','CII.AX','CIN.AX','CIO.AX','CIP.AX','CIW.AX','CKA.AX','CKF.AX','CKM.AX','CL8.AX','CLA.AX','CLB.AX','CLE.AX','CLG.AX','CLH.AX','CLT.AX','CLU.AX','CLV.AX','CLW.AX','CLX.AX','CLZ.AX','CM8.AX','CMD.AX','CMG.AX','CML.AX','CMM.AX','CMO.AX','CMP.AX','CMW.AX','CMX.AX','CNB.AX','CNI.AX','CNJ.AX','CNQ.AX','CNR.AX','CNU.AX','CNW.AX','COB.AX','COD.AX','COE.AX','COF.AX','COG.AX','COH.AX','COI.AX','COL.AX','COO.AX','COS.AX','COY.AX','CPH.AX','CPM.AX','CPN.AX','CPO.AX','CPT.AX','CPU.AX','CPV.AX','CQE.AX','CQR.AX','CR1.AX','CR9.AX','CRB.AX','CRL.AX','CRM.AX','CRN.AX','CRR.AX','CRS.AX','CSE.AX','CSF.AX','CSL.AX','CSR.AX','CSS.AX','CST.AX','CSX.AX','CT1.AX','CTD.AX','CTE.AX','CTM.AX','CTO.AX','CTP.AX','CTQ.AX','CTT.AX','CTV.AX','CU6.AX','CUE.AX','CUF.AX','CUL.AX','CUP.AX','CUS.AX','CUV.AX','CV1.AX','CVC.AX','CVL.AX','CVN.AX','CVR.AX','CVV.AX','CVW.AX','CWL.AX','CWN.AX','CWP.AX','CWX.AX','CWY.AX','CXL.AX','CXM.AX','CXO.AX','CXU.AX','CXX.AX','CXZ.AX','CY5.AX','CYC.AX','CYG.AX','CYL.AX','CYM.AX','CYP.AX','CYQ.AX','CZL.AX','CZN.AX','CZR.AX','D2O.AX','DAF.AX','DAL.AX','DBF.AX','DBI.AX','DBO.AX','DC2.AX','DCC.AX','DCG.AX','DCL.AX','DCN.AX','DCX.AX','DDB.AX','DDD.AX','DDH.AX','DDR.AX','DDT.AX','DEG.AX','DEL.AX','DEM.AX','DEV.AX','DEX.AX','DGH.AX','DGL.AX','DGO.AX','DGR.AX','DHG.AX','DJW.AX','DKM.AX','DLC.AX','DLM.AX','DLT.AX','DM1.AX','DMC.AX','DME.AX','DMG.AX','DMM.AX','DMP.AX','DNA.AX','DNK.AX','DOC.AX','DOR.AX','DOU.AX','DOW.AX','DRA.AX','DRE.AX','DRM.AX','DRO.AX','DRR.AX','DRX.AX','DSE.AX','DSK.AX','DTC.AX','DTI.AX','DTL.AX','DTM.AX','DTR.AX','DTZ.AX','DUB.AX','DUG.AX','DUI.AX','DUN.AX','DUR.AX','DVL.AX','DVP.AX','DVR.AX','DW8.AX','DXB.AX','DXC.AX','DXI.AX','DXN.AX','DXS.AX','DYL.AX','E25.AX','E2E.AX','E2M.AX','E33.AX','E79.AX','EAI.AX','EAX.AX','EBG.AX','EBO.AX','EBR.AX','ECF.AX','ECG.AX','ECL.AX','ECP.AX','ECS.AX','ECT.AX','ECX.AX','EDC.AX','EDE.AX','EDEN.AX','EDU.AX','EDV.AX','EEG.AX','EER.AX','EFE.AX','EGG.AX','EGH.AX','EGL.AX','EGN.AX','EGR.AX','EGY.AX','EHE.AX','EHL.AX','EIQ.AX','EL8.AX','ELD.AX','ELE.AX','ELO.AX','ELS.AX','ELT.AX','EM1.AX','EM2.AX','EMB.AX','EMD.AX','EME.AX','EMH.AX','EML.AX','EMN.AX','EMP.AX','EMR.AX','EMS.AX','EMT.AX','EMU.AX','EMUCA.AX','EMV.AX','ENA.AX','ENN.AX','ENR.AX','ENT.AX','ENV.AX','ENX.AX','EOF.AX','EOL.AX','EOS.AX','EP1.AX','EPM.AX','EPN.AX','EPX.AX','EPY.AX','EQE.AX','EQN.AX','EQR.AX','EQS.AX','EQT.AX','EQX.AX','ERA.AX','ERD.AX','ERF.AX','ERG.AX','ERL.AX','ERM.AX','ERW.AX','ESK.AX','ESR.AX','ESS.AX','EUR.AX','EV1.AX','EVE.AX','EVN.AX','EVO.AX','EVR.AX','EVS.AX','EVT.AX','EVZ.AX','EWC.AX','EX1.AX','EXL.AX','EXP.AX','EXR.AX','EYE.AX','EZL.AX','EZZ.AX','FAL.AX','FAR.AX','FAU.AX','FBR.AX','FBU.AX','FCL.AX','FCT.AX','FDR.AX','FDV.AX','FE8.AX','FEG.AX','FEX.AX','FFC.AX','FFF.AX','FFG.AX','FFI.AX','FFT.AX','FFX.AX','FG1.AX','FGG.AX','FGL.AX','FGR.AX','FGX.AX','FHE.AX','FHS.AX','FID.AX','FIJ.AX','FIN.AX','FLC.AX','FLN.AX','FLT.AX','FLX.AX','FME.AX','FMG.AX','FML.AX','FMS.AX','FNX.AX','FOD.AX','FOR.AX','FOS.AX','FPC.AX','FPH.AX','FPP.AX','FRB.AX','FRE.AX','FRI.AX','FRM.AX','FRS.AX','FRX.AX','FSA.AX','FSF.AX','FSG.AX','FSI.AX','FTC.AX','FTL.AX','FTZ.AX','FWD.AX','FXG.AX','FYI.AX','FZO.AX','FZR.AX','G1A.AX','G50.AX','G6M.AX','G79.AX','G88.AX','GAL.AX','GAP.AX','GAS.AX','GBE.AX','GBR.AX','GBZ.AX','GC1.AX','GCI.AX','GCR.AX','GCX.AX','GCY.AX','GDA.AX','GDC.AX','GDF.AX','GDG.AX','GDI.AX','GED.AX','GEM.AX','GEN.AX','GES.AX','GFL.AX','GFN.AX','GGE.AX','GGG.AX','GGX.AX','GIB.AX','GL1.AX','GLA.AX','GLB.AX','GLE.AX','GLH.AX','GLL.AX','GLN.AX','GLV.AX','GMA.AX','GMD.AX','GME.AX','GMG.AX','GML.AX','GMN.AX','GMR.AX','GNC.AX','GNE.AX','GNG.AX','GNM.AX','GNP.AX','GNX.AX','GO2.AX','GOR.AX','GOW.AX','GOZ.AX','GPR.AX','GPS.AX','GPT.AX','GQG.AX','GRE.AX','GRL.AX','GRR.AX','GRV.AX','GRX.AX','GSM.AX','GSN.AX','GSR.AX','GSS.AX','GT1.AX','GTE.AX','GTG.AX','GTI.AX','GTK.AX','GTN.AX','GTR.AX','GUD.AX','GUL.AX','GVF.AX','GW1.AX','GWA.AX','GWR.AX','HAL.AX','HAR.AX','HAS.AX','HAV.AX','HAW.AX','HCD.AX','HCH.AX','HCT.AX','HCW.AX','HDN.AX','HE8.AX','HFR.AX','HFY.AX','HGH.AX','HGL.AX','HGO.AX','HGV.AX','HHI.AX','HHR.AX','HHY.AX','HIL.AX','HIO.AX','HIQ.AX','HIT.AX','HLA.AX','HLF.AX','HLO.AX','HLS.AX','HLX.AX','HM1.AX','HMC.AX','HMD.AX','HMG.AX','HMI.AX','HMX.AX','HMY.AX','HNG.AX','HNR.AX','HOR.AX','HPC.AX','HPG.AX','HPI.AX','HPP.AX','HPR.AX','HRL.AX','HRN.AX','HRZ.AX','HSC.AX','HSN.AX','HT1.AX','HT8.AX','HTA.AX','HTG.AX','HUB.AX','HUM.AX','HVM.AX','HVN.AX','HVY.AX','HXG.AX','HXL.AX','HYD.AX','HZN.AX','HZR.AX','IAG.AX','IAM.AX','IAP.AX','IBC.AX','IBG.AX','IBX.AX','ICE.AX','ICG.AX','ICI.AX','ICL.AX','ICN.AX','ICR.AX','ICS.AX','ICT.AX','ID8.AX','IDA.AX','IDT.AX','IDX.AX','IEC.AX','IEL.AX','IEQ.AX','IFL.AX','IFM.AX','IFT.AX','IG6.AX','IGL.AX','IGN.AX','IGO.AX','IHL.AX','IHR.AX','IIQ.AX','IKE.AX','IKW.AX','ILA.AX','ILT.AX','ILU.AX','IMA.AX','IMB.AX','IMC.AX','IMD.AX','IME.AX','IMI.AX','IMM.AX','IMR.AX','IMS.AX','IMU.AX','INA.AX','IND.AX','INF.AX','ING.AX','INL.AX','INP.AX','INR.AX','INV.AX','IOD.AX','IOU.AX','IPB.AX','IPC.AX','IPD.AX','IPG.AX','IPH.AX','IPL.AX','IPT.AX','IPX.AX','IQ3.AX','IR1.AX','IRD.AX','IRE.AX','IRI.AX','IRX.AX','IS3.AX','ISU.AX','ITM.AX','IVC.AX','IVO.AX','IVR.AX','IVT.AX','IVX.AX','IVZ.AX','IXC.AX','IXR.AX','IXU.AX','JAL.AX','JAN.AX','JAT.AX','JAV.AX','JAY.AX','JBH.AX','JCS.AX','JDO.AX','JGH.AX','JHG.AX','JHX.AX','JIN.AX','JLG.AX','JMS.AX','JNO.AX','JPR.AX','JRL.AX','JRV.AX','JTL.AX','JXT.AX','JYC.AX','K2F.AX','KAI.AX','KAL.AX','KAM.AX','KAR.AX','KAT.AX','KAU.AX','KBC.AX','KCC.AX','KCN.AX','KED.AX','KEY.AX','KFE.AX','KFM.AX','KGD.AX','KGL.AX','KGM.AX','KGN.AX','KIL.AX','KIN.AX','KKC.AX','KKO.AX','KLI.AX','KLL.AX','KLO.AX','KLR.AX','KLS.AX','KMD.AX','KME.AX','KMT.AX','KNB.AX','KNG.AX','KNI.AX','KNM.AX','KNO.AX','KOB.AX','KOR.AX','KOV.AX','KP2.AX','KPG.AX','KPO.AX','KRM.AX','KRR.AX','KSC.AX','KSL.AX','KSN.AX','KSS.AX','KTA.AX','KTG.AX','KWR.AX','KYK.AX','KZA.AX','KZR.AX','LAM.AX','LAN.AX','LAU.AX','LAW.AX','LBL.AX','LBT.AX','LBY.AX','LCE.AX','LCL.AX','LCT.AX','LCY.AX','LDR.AX','LDX.AX','LEG.AX','LEL.AX','LER.AX','LEX.AX','LFG.AX','LFS.AX','LGL.AX','LGM.AX','LGP.AX','LHM.AX','LIC.AX','LIN.AX','LIO.AX','LIS.AX','LIT.AX','LKE.AX','LKO.AX','LKY.AX','LLC.AX','LLL.AX','LLO.AX','LM8.AX','LME.AX','LMG.AX','LML.AX','LNK.AX','LNR.AX','LNU.AX','LNY.AX','LOM.AX','LOT.AX','LOV.AX','LPD.AX','LPE.AX','LPI.AX','LPM.AX','LRD.AX','LRK.AX','LRL.AX','LRS.AX','LRT.AX','LRV.AX','LSA.AX','LSF.AX','LSR.AX','LSX.AX','LTR.AX','LV1.AX','LVE.AX','LVH.AX','LVT.AX','LYC.AX','LYK.AX','LYL.AX','LYN.AX','M24.AX','M2M.AX','M2R.AX','M3M.AX','M7T.AX','M8S.AX','M8SN.AX','MAD.AX','MAF.AX','MAG.AX','MAH.AX','MAM.AX','MAN.AX','MAP.AX','MAQ.AX','MAT.AX','MAU.AX','MAUCA.AX','MAY.AX','MBH.AX','MBK.AX','MBX.AX','MCA.AX','MCE.AX','MCL.AX','MCM.AX','MCP.AX','MCR.AX','MCT.AX','MCX.AX','MCY.AX','MDC.AX','MDI.AX','MDR.AX','MDX.AX','MEA.AX','MEB.AX','MEC.AX','MEG.AX','MEI.AX','MEK.AX','MEL.AX','MEM.AX','MEU.AX','MEZ.AX','MFB.AX','MFD.AX','MFF.AX','MFG.AX','MGA.AX','MGF.AX','MGG.AX','MGH.AX','MGL.AX','MGR.AX','MGT.AX','MGU.AX','MGV.AX','MGX.AX','MHC.AX','MHI.AX','MHJ.AX','MHK.AX','MI6.AX','MIH.AX','MIL.AX','MIN.AX','MIO.AX','MIR.AX','MIRNB.AX','MKG.AX','MKL.AX','MKR.AX','MLD.AX','MLG.AX','MLM.AX','MLS.AX','MLSN.AX','MLX.AX','MM1.AX','MM8.AX','MMA.AX','MMC.AX','MME.AX','MMG.AX','MMI.AX','MMM.AX','MMR.AX','MMS.AX','MNB.AX','MND.AX','MNS.AX','MNY.AX','MOB.AX','MOH.AX','MOQ.AX','MOT.AX','MOV.AX','MOZ.AX','MP1.AX','MPA.AX','MPG.AX','MPL.AX','MPP.AX','MPR.AX','MPX.AX','MQG.AX','MQR.AX','MR1.AX','MRC.AX','MRD.AX','MRG.AX','MRI.AX','MRL.AX','MRM.AX','MRQ.AX','MRR.AX','MRZ.AX','MSB.AX','MSG.AX','MSI.AX','MSL.AX','MSV.AX','MTB.AX','MTC.AX','MTH.AX','MTM.AX','MTO.AX','MTR.AX','MTS.AX','MVF.AX','MVL.AX','MVP.AX','MWY.AX','MX1.AX','MXC.AX','MXI.AX','MXO.AX','MXR.AX','MXT.AX','MYD.AX','MYE.AX','MYG.AX','MYL.AX','MYR.AX','MYS.AX','MYX.AX','MZZ.AX','N1H.AX','NAB.AX','NAC.AX','NAE.AX','NAG.AX','NAM.AX','NAN.AX','NBI.AX','NC1.AX','NC6.AX','NCC.AX','NCK.AX','NCL.AX','NCM.AX','NCR.AX','NCZ.AX','NEA.AX','NEC.AX','NES.AX','NET.AX','NEU.AX','NEW.AX','NFL.AX','NGE.AX','NGI.AX','NGS.AX','NGY.AX','NHC.AX','NHE.AX','NHF.AX','NIC.AX','NIM.AX','NIS.AX','NKL.AX','NME.AX','NML.AX','NMR.AX','NMT.AX','NNG.AX','NNL.AX','NOL.AX','NOR.AX','NORN.AX','NOU.AX','NOV.AX','NOX.AX','NPM.AX','NPR.AX','NRX.AX','NRZ.AX','NSB.AX','NSC.AX','NSE.AX','NSM.AX','NSR.AX','NST.AX','NSX.AX','NTD.AX','NTI.AX','NTL.AX','NTO.AX','NTU.AX','NUC.AX','NUF.AX','NUH.AX','NVA.AX','NVU.AX','NVX.AX','NWC.AX','NWE.AX','NWF.AX','NWH.AX','NWL.AX','NWM.AX','NWS.AX','NWSLV.AX','NXG.AX','NXL.AX','NXM.AX','NXS.AX','NXT.AX','NYM.AX','NYR.AX','NZK.AX','NZM.AX','NZO.AX','NZS.AX','OAK.AX','OAR.AX','OAU.AX','OBL.AX','OBM.AX','OCA.AX','OCC.AX','OCL.AX','OCN.AX','OD6.AX','ODA.AX','ODE.AX','ODM.AX','ODY.AX','OEC.AX','OEL.AX','OEQ.AX','OEX.AX','OFX.AX','OGC.AX','OIL.AX','OKJ.AX','OKR.AX','OKU.AX','OLH.AX','OLI.AX','OLL.AX','OLY.AX','OM1.AX','OMH.AX','OML.AX','OMX.AX','ONE.AX','OOK.AX','OPH.AX','OPL.AX','OPN.AX','OPT.AX','OPY.AX','ORA.AX','ORG.AX','ORI.AX','ORM.AX','ORN.AX','ORR.AX','OSL.AX','OSLN.AX','OSM.AX','OSP.AX','OSX.AX','OVN.AX','OVT.AX','OXT.AX','OXX.AX','OZL.AX','OZM.AX','OZZ.AX','PAA.AX','PAB.AX','PAC.AX','PAI.AX','PAK.AX','PAL.AX','PAM.AX','PAN.AX','PAR.AX','PBH.AX','PBL.AX','PBP.AX','PBX.AX','PCG.AX','PCI.AX','PCK.AX','PCL.AX','PDI.AX','PDL.AX','PDN.AX','PE1.AX','PEB.AX','PEC.AX','PEK.AX','PEN.AX','PET.AX','PEX.AX','PF1.AX','PFE.AX','PFG.AX','PFP.AX','PFT.AX','PG1.AX','PGC.AX','PGD.AX','PGF.AX','PGG.AX','PGH.AX','PGL.AX','PGM.AX','PGO.AX','PGY.AX','PH2.AX','PHL.AX','PHO.AX','PIA.AX','PIC.AX','PIL.AX','PIM.AX','PIQ.AX','PKD.AX','PKO.AX','PL8.AX','PLG.AX','PLL.AX','PLS.AX','PLT.AX','PLY.AX','PMC.AX','PME.AX','PMV.AX','PNC.AX','PNI.AX','PNM.AX','PNN.AX','PNR.AX','PNT.AX','PNV.AX','PNX.AX','PO3.AX','POD.AX','POL.AX','POS.AX','POW.AX','PPC.AX','PPE.AX','PPG.AX','PPH.AX','PPK.AX','PPL.AX','PPM.AX','PPS.AX','PPT.AX','PPY.AX','PR1.AX','PRL.AX','PRM.AX','PRN.AX','PRO.AX','PRS.AX','PRT.AX','PRU.AX','PRX.AX','PSC.AX','PSI.AX','PSL.AX','PSQ.AX','PTB.AX','PTG.AX','PTL.AX','PTM.AX','PTR.AX','PTX.AX','PUA.AX','PUR.AX','PV1.AX','PVE.AX','PVL.AX','PVS.AX','PVW.AX','PWH.AX','PWN.AX','PWR.AX','PX1.AX','PXA.AX','PXS.AX','PXX.AX','PYC.AX','PYG.AX','PYR.AX','QAL.AX','QAN.AX','QBE.AX','QEM.AX','QFE.AX','QGL.AX','QHL.AX','QIP.AX','QML.AX','QPM.AX','QRI.AX','QUB.AX','QUE.AX','QVE.AX','QXR.AX','R3D.AX','R8R.AX','RAC.AX','RAD.AX','RAG.AX','RAN.AX','RAP.AX','RAS.AX','RB6.AX','RBD.AX','RBL.AX','RBR.AX','RBX.AX','RC1.AX','RCE.AX','RCL.AX','RCP.AX','RCR.AX','RCT.AX','RCW.AX','RD1.AX','RDG.AX','RDM.AX','RDN.AX','RDS.AX','RDT.AX','RDY.AX','REA.AX','REC.AX','RED.AX','REE.AX','REG.AX','REH.AX','REM.AX','REP.AX','RESDA.AX','REX.AX','REY.AX','REZ.AX','RF1.AX','RFA.AX','RFF.AX','RFG.AX','RFR.AX','RFT.AX','RFX.AX','RGI.AX','RGL.AX','RGS.AX','RHC.AX','RHI.AX','RHT.AX','RHY.AX','RIC.AX','RIE.AX','RIM.AX','RIO.AX','RKN.AX','RLC.AX','RLF.AX','RLG.AX','RLT.AX','RMC.AX','RMD.AX','RMI.AX','RML.AX','RMS.AX','RMX.AX','RMY.AX','RND.AX','RNE.AX','RNO.AX','RNT.AX','RNU.AX','RNX.AX','ROC.AX','ROG.AX','RON.AX','ROO.AX','RPG.AX','RPL.AX','RPM.AX','RR1.AX','RRL.AX','RRR.AX','RSG.AX','RSH.AX','RTE.AX','RTG.AX','RTH.AX','RTR.AX','RUL.AX','RVR.AX','RVS.AX','RWC.AX','RWD.AX','RWL.AX','RXH.AX','RXL.AX','RXM.AX','RYD.AX','RZI.AX','S2R.AX','S32.AX','S3N.AX','S66.AX','SAN.AX','SAU.AX','SB2.AX','SBM.AX','SBR.AX','SBW.AX','SCG.AX','SCL.AX','SCN.AX','SCP.AX','SCT.AX','SCU.AX','SDF.AX','SDG.AX','SDI.AX','SDR.AX','SDV.AX','SE1.AX','SEC.AX','SEG.AX','SEK.AX','SEN.AX','SEQ.AX','SER.AX','SES.AX','SFC.AX','SFG.AX','SFM.AX','SFR.AX','SFX.AX','SGA.AX','SGC.AX','SGF.AX','SGH.AX','SGI.AX','SGLLV.AX','SGM.AX','SGP.AX','SGQ.AX','SGR.AX','SH2.AX','SHA.AX','SHE.AX','SHG.AX','SHH.AX','SHJ.AX','SHL.AX','SHM.AX','SHN.AX','SHO.AX','SHP.AX','SHV.AX','SI6.AX','SIG.AX','SIH.AX','SIO.AX','SIQ.AX','SIS.AX','SIT.AX','SIV.AX','SIX.AX','SKC.AX','SKF.AX','SKN.AX','SKO.AX','SKS.AX','SKT.AX','SKY.AX','SLA.AX','SLB.AX','SLC.AX','SLH.AX','SLM.AX','SLR.AX','SLS.AX','SLX.AX','SLZ.AX','SM1.AX','SMG.AX','SMI.AX','SMN.AX','SMP.AX','SMR.AX','SMS.AX','SMX.AX','SNC.AX','SND.AX','SNG.AX','SNL.AX','SNS.AX','SNX.AX','SNZ.AX','SO4.AX','SOL.AX','SOM.AX','SOP.AX','SOR.AX','SOV.AX','SP1.AX','SP3.AX','SPA.AX','SPD.AX','SPK.AX','SPL.AX','SPN.AX','SPQ.AX','SPT.AX','SPX.AX','SPZ.AX','SQ2.AX','SRG.AX','SRH.AX','SRI.AX','SRJ.AX','SRK.AX','SRL.AX','SRN.AX','SRR.AX','SRV.AX','SRY.AX','SRZ.AX','SSG.AX','SSH.AX','SSL.AX','SSM.AX','SSR.AX','SST.AX','ST1.AX','STA.AX','STG.AX','STK.AX','STM.AX','STN.AX','STO.AX','STP.AX','STX.AX','SUH.AX','SUL.AX','SUM.AX','SUN.AX','SUV.AX','SVL.AX','SVM.AX','SVS.AX','SVW.AX','SVY.AX','SW1.AX','SWF.AX','SWM.AX','SWP.AX','SXE.AX','SXG.AX','SXL.AX','SYA.AX','SYM.AX','SYR.AX','SYT.AX','SZL.AX','T3D.AX','T3K.AX','TAH.AX','TAM.AX','TAR.AX','TAS.AX','TBA.AX','TBN.AX','TBR.AX','TCF.AX','TCG.AX','TCL.AX','TCO.AX','TD1.AX','TDO.AX','TEE.AX','TEG.AX','TEK.AX','TEM.AX','TER.AX','TFL.AX','TG1.AX','TG6.AX','TGA.AX','TGF.AX','TGH.AX','TGM.AX','TGN.AX','TGP.AX','TGR.AX','THL.AX','THR.AX','TI1.AX','TIA.AX','TIE.AX','TIG.AX','TIP.AX','TKL.AX','TKM.AX','TLC.AX','TLG.AX','TLM.AX','TLS.AX','TLX.AX','TMB.AX','TMG.AX','TMH.AX','TMK.AX','TML.AX','TMR.AX','TMS.AX','TMT.AX','TMX.AX','TMZ.AX','TNE.AX','TNG.AX','TNP.AX','TNT.AX','TNY.AX','TOE.AX','TON.AX','TOP.AX','TOR.AX','TOT.AX','TOU.AX','TOY.AX','TPC.AX','TPD.AX','TPG.AX','TPO.AX','TPP.AX','TPW.AX','TRA.AX','TRJ.AX','TRM.AX','TRP.AX','TRS.AX','TRT.AX','TRU.AX','TRY.AX','TSC.AX','TSI.AX','TSL.AX','TSN.AX','TSO.AX','TTA.AX','TTB.AX','TTI.AX','TTM.AX','TTT.AX','TUA.AX','TUL.AX','TVL.AX','TWD.AX','TWE.AX','TWR.AX','TYM.AX','TYR.AX','TYX.AX','TZL.AX','TZN.AX','UBI.AX','UBN.AX','UCM.AX','UMG.AX','UNI.AX','UOS.AX','URF.AX','URW.AX','USQ.AX','UUL.AX','UUV.AX','UVA.AX','UWL.AX','VAL.AX','VAN.AX','VAR.AX','VBC.AX','VBS.AX','VCX.AX','VEA.AX','VEE.AX','VEN.AX','VG1.AX','VG8.AX','VGL.AX','VHT.AX','VIA.AX','VIG.AX','VIP.AX','VKA.AX','VLS.AX','VMC.AX','VMG.AX','VML.AX','VMM.AX','VMS.AX','VMT.AX','VMY.AX','VN8.AX','VNT.AX','VOL.AX','VOR.AX','VPR.AX','VR1.AX','VR8.AX','VRC.AX','VRS.AX','VRT.AX','VRX.AX','VSL.AX','VTG.AX','VTI.AX','VTX.AX','VUK.AX','VUL.AX','VVA.AX','VYS.AX','W2V.AX','WA1.AX','WAA.AX','WAF.AX','WAK.AX','WAM.AX','WAR.AX','WAT.AX','WAX.AX','WBC.AX','WBE.AX','WBT.AX','WC1.AX','WC8.AX','WCG.AX','WCN.AX','WDS.AX','WEB.AX','WEC.AX','WEL.AX','WES.AX','WFL.AX','WGB.AX','WGN.AX','WGO.AX','WGR.AX','WGX.AX','WHC.AX','WHF.AX','WHK.AX','WIA.AX','WIN.AX','WKT.AX','WLD.AX','WLE.AX','WLS.AX','WMA.AX','WMC.AX','WMG.AX','WMI.AX','WML.AX','WNB.AX','WNR.AX','WNX.AX','WOA.AX','WOO.AX','WOR.AX','WOT.AX','WOW.AX','WPR.AX','WQG.AX','WR1.AX','WRK.AX','WRM.AX','WSA.AX','WSI.AX','WSP.AX','WSR.AX','WTC.AX','WTL.AX','WTN.AX','WWG.AX','WWGN.AX','WWI.AX','WZR.AX','X2M.AX','X64.AX','XAM.AX','XF1.AX','XPN.AX','XRF.AX','XRG.AX','XRO.AX','XST.AX','XTC.AX','XTE.AX','YAL.AX','YBR.AX','YOJ.AX','YOW.AX','YPBDB.AX','YRL.AX','Z2U.AX','ZAG.AX','ZEO.AX','ZER.AX','ZEU.AX','ZGL.AX','ZIM.AX','ZIP.AX','ZLD.AX','ZMI.AX','ZMMDE.AX','ZNC.AX','ZNO.AX']"
      ],
      "metadata": {
        "id": "sv-hasLxnqp3"
      },
      "execution_count": null,
      "outputs": []
    }
  ],
  "metadata": {
    "kernelspec": {
      "display_name": "Python 3",
      "language": "python",
      "name": "python3"
    },
    "language_info": {
      "codemirror_mode": {
        "name": "ipython",
        "version": 3
      },
      "file_extension": ".py",
      "mimetype": "text/x-python",
      "name": "python",
      "nbconvert_exporter": "python",
      "pygments_lexer": "ipython3",
      "version": "3.9.4"
    },
    "colab": {
      "name": "Stock Analysis Bot.ipynb",
      "provenance": [],
      "collapsed_sections": []
    }
  },
  "nbformat": 4,
  "nbformat_minor": 0
}